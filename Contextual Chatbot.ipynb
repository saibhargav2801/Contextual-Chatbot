{
 "cells": [
  {
   "cell_type": "code",
   "execution_count": 1,
   "id": "5645980f",
   "metadata": {},
   "outputs": [],
   "source": [
    "import numpy as np\n",
    "import pandas as pd\n",
    "import nltk\n",
    "from nltk.stem import PorterStemmer"
   ]
  },
  {
   "cell_type": "code",
   "execution_count": 2,
   "id": "f29ba4c4",
   "metadata": {},
   "outputs": [],
   "source": [
    "import json\n",
    "with open('intents.json') as json_data:\n",
    "    intents = json.load(json_data)"
   ]
  },
  {
   "cell_type": "code",
   "execution_count": 19,
   "id": "3bf827de",
   "metadata": {},
   "outputs": [],
   "source": [
    "words = []\n",
    "classes = []\n",
    "documents = []\n",
    "ignore_words = ['?']"
   ]
  },
  {
   "cell_type": "code",
   "execution_count": 20,
   "id": "5d27ff52",
   "metadata": {},
   "outputs": [],
   "source": [
    "for intent in intents['intents']:\n",
    "    for pattern in intent['patterns']:\n",
    "        # tokenize each word in the sentence\n",
    "        w = nltk.word_tokenize(pattern)\n",
    "        # add to our words list\n",
    "        words.extend(w)\n",
    "        # add to documents in our corpus\n",
    "        documents.append((w, intent['tag']))\n",
    "        # add to our classes list\n",
    "        if intent['tag'] not in classes:\n",
    "            classes.append(intent['tag'])"
   ]
  },
  {
   "cell_type": "code",
   "execution_count": 21,
   "id": "69788d6a",
   "metadata": {},
   "outputs": [
    {
     "data": {
      "text/plain": [
       "[(['Hi'], 'greeting'),\n",
       " (['How', 'are', 'you'], 'greeting'),\n",
       " (['Is', 'anyone', 'there', '?'], 'greeting'),\n",
       " (['Hello'], 'greeting'),\n",
       " (['Good', 'day'], 'greeting'),\n",
       " (['Bye'], 'goodbye'),\n",
       " (['See', 'you', 'later'], 'goodbye'),\n",
       " (['Goodbye'], 'goodbye'),\n",
       " (['Thanks'], 'thanks'),\n",
       " (['Thank', 'you'], 'thanks'),\n",
       " (['That', \"'s\", 'helpful'], 'thanks'),\n",
       " (['What', 'hours', 'are', 'you', 'open', '?'], 'hours'),\n",
       " (['What', 'are', 'your', 'hours', '?'], 'hours'),\n",
       " (['When', 'are', 'you', 'open', '?'], 'hours'),\n",
       " (['Which', 'mopeds', 'do', 'you', 'have', '?'], 'mopeds'),\n",
       " (['What', 'kinds', 'of', 'mopeds', 'are', 'there', '?'], 'mopeds'),\n",
       " (['What', 'do', 'you', 'rent', '?'], 'mopeds'),\n",
       " (['Do', 'you', 'take', 'credit', 'cards', '?'], 'payments'),\n",
       " (['Do', 'you', 'accept', 'Mastercard', '?'], 'payments'),\n",
       " (['Are', 'you', 'cash', 'only', '?'], 'payments'),\n",
       " (['Are', 'you', 'open', 'today', '?'], 'opentoday'),\n",
       " (['When', 'do', 'you', 'open', 'today', '?'], 'opentoday'),\n",
       " (['What', 'are', 'your', 'hours', 'today', '?'], 'opentoday'),\n",
       " (['Can', 'we', 'rent', 'a', 'moped', '?'], 'rental'),\n",
       " (['I', \"'d\", 'like', 'to', 'rent', 'a', 'moped'], 'rental'),\n",
       " (['How', 'does', 'this', 'work', '?'], 'rental'),\n",
       " (['today'], 'today')]"
      ]
     },
     "execution_count": 21,
     "metadata": {},
     "output_type": "execute_result"
    }
   ],
   "source": [
    "documents"
   ]
  },
  {
   "cell_type": "code",
   "execution_count": 22,
   "id": "f5c420f3",
   "metadata": {},
   "outputs": [
    {
     "data": {
      "text/plain": [
       "['hi',\n",
       " 'how',\n",
       " 'are',\n",
       " 'you',\n",
       " 'is',\n",
       " 'anyon',\n",
       " 'there',\n",
       " 'hello',\n",
       " 'good',\n",
       " 'day',\n",
       " 'bye',\n",
       " 'see',\n",
       " 'you',\n",
       " 'later',\n",
       " 'goodby',\n",
       " 'thank',\n",
       " 'thank',\n",
       " 'you',\n",
       " 'that',\n",
       " \"'s\",\n",
       " 'help',\n",
       " 'what',\n",
       " 'hour',\n",
       " 'are',\n",
       " 'you',\n",
       " 'open',\n",
       " 'what',\n",
       " 'are',\n",
       " 'your',\n",
       " 'hour',\n",
       " 'when',\n",
       " 'are',\n",
       " 'you',\n",
       " 'open',\n",
       " 'which',\n",
       " 'mope',\n",
       " 'do',\n",
       " 'you',\n",
       " 'have',\n",
       " 'what',\n",
       " 'kind',\n",
       " 'of',\n",
       " 'mope',\n",
       " 'are',\n",
       " 'there',\n",
       " 'what',\n",
       " 'do',\n",
       " 'you',\n",
       " 'rent',\n",
       " 'do',\n",
       " 'you',\n",
       " 'take',\n",
       " 'credit',\n",
       " 'card',\n",
       " 'do',\n",
       " 'you',\n",
       " 'accept',\n",
       " 'mastercard',\n",
       " 'are',\n",
       " 'you',\n",
       " 'cash',\n",
       " 'onli',\n",
       " 'are',\n",
       " 'you',\n",
       " 'open',\n",
       " 'today',\n",
       " 'when',\n",
       " 'do',\n",
       " 'you',\n",
       " 'open',\n",
       " 'today',\n",
       " 'what',\n",
       " 'are',\n",
       " 'your',\n",
       " 'hour',\n",
       " 'today',\n",
       " 'can',\n",
       " 'we',\n",
       " 'rent',\n",
       " 'a',\n",
       " 'mope',\n",
       " 'i',\n",
       " \"'d\",\n",
       " 'like',\n",
       " 'to',\n",
       " 'rent',\n",
       " 'a',\n",
       " 'mope',\n",
       " 'how',\n",
       " 'doe',\n",
       " 'thi',\n",
       " 'work',\n",
       " 'today']"
      ]
     },
     "execution_count": 22,
     "metadata": {},
     "output_type": "execute_result"
    }
   ],
   "source": [
    "#to make words stem and non repetetive\n",
    "ps = PorterStemmer()\n",
    "words = [ps.stem(w) for w in words if w not in ignore_words]\n",
    "words"
   ]
  },
  {
   "cell_type": "code",
   "execution_count": 23,
   "id": "05e99903",
   "metadata": {},
   "outputs": [],
   "source": [
    "words = sorted(list(set(words)))"
   ]
  },
  {
   "cell_type": "code",
   "execution_count": 24,
   "id": "4c64cf96",
   "metadata": {},
   "outputs": [
    {
     "data": {
      "text/plain": [
       "[\"'d\",\n",
       " \"'s\",\n",
       " 'a',\n",
       " 'accept',\n",
       " 'anyon',\n",
       " 'are',\n",
       " 'bye',\n",
       " 'can',\n",
       " 'card',\n",
       " 'cash',\n",
       " 'credit',\n",
       " 'day',\n",
       " 'do',\n",
       " 'doe',\n",
       " 'good',\n",
       " 'goodby',\n",
       " 'have',\n",
       " 'hello',\n",
       " 'help',\n",
       " 'hi',\n",
       " 'hour',\n",
       " 'how',\n",
       " 'i',\n",
       " 'is',\n",
       " 'kind',\n",
       " 'later',\n",
       " 'like',\n",
       " 'mastercard',\n",
       " 'mope',\n",
       " 'of',\n",
       " 'onli',\n",
       " 'open',\n",
       " 'rent',\n",
       " 'see',\n",
       " 'take',\n",
       " 'thank',\n",
       " 'that',\n",
       " 'there',\n",
       " 'thi',\n",
       " 'to',\n",
       " 'today',\n",
       " 'we',\n",
       " 'what',\n",
       " 'when',\n",
       " 'which',\n",
       " 'work',\n",
       " 'you',\n",
       " 'your']"
      ]
     },
     "execution_count": 24,
     "metadata": {},
     "output_type": "execute_result"
    }
   ],
   "source": [
    "words"
   ]
  },
  {
   "cell_type": "code",
   "execution_count": 25,
   "id": "06f6e386",
   "metadata": {},
   "outputs": [
    {
     "data": {
      "text/plain": [
       "['greeting',\n",
       " 'goodbye',\n",
       " 'thanks',\n",
       " 'hours',\n",
       " 'mopeds',\n",
       " 'payments',\n",
       " 'opentoday',\n",
       " 'rental',\n",
       " 'today']"
      ]
     },
     "execution_count": 25,
     "metadata": {},
     "output_type": "execute_result"
    }
   ],
   "source": [
    "classes"
   ]
  },
  {
   "cell_type": "code",
   "execution_count": 26,
   "id": "01277912",
   "metadata": {},
   "outputs": [],
   "source": [
    "classes = sorted(list(set(classes)))"
   ]
  },
  {
   "cell_type": "code",
   "execution_count": 27,
   "id": "f047a488",
   "metadata": {},
   "outputs": [
    {
     "data": {
      "text/plain": [
       "['goodbye',\n",
       " 'greeting',\n",
       " 'hours',\n",
       " 'mopeds',\n",
       " 'opentoday',\n",
       " 'payments',\n",
       " 'rental',\n",
       " 'thanks',\n",
       " 'today']"
      ]
     },
     "execution_count": 27,
     "metadata": {},
     "output_type": "execute_result"
    }
   ],
   "source": [
    "classes"
   ]
  },
  {
   "cell_type": "code",
   "execution_count": 37,
   "id": "4754ecbf",
   "metadata": {},
   "outputs": [
    {
     "data": {
      "text/plain": [
       "8"
      ]
     },
     "execution_count": 37,
     "metadata": {},
     "output_type": "execute_result"
    }
   ],
   "source": [
    "classes.index('today')"
   ]
  },
  {
   "cell_type": "markdown",
   "id": "4ad9526f",
   "metadata": {},
   "source": [
    "##### Checking the things all together"
   ]
  },
  {
   "cell_type": "code",
   "execution_count": 28,
   "id": "4d3d2241",
   "metadata": {},
   "outputs": [
    {
     "name": "stdout",
     "output_type": "stream",
     "text": [
      "27 documents\n",
      "9 classes ['goodbye', 'greeting', 'hours', 'mopeds', 'opentoday', 'payments', 'rental', 'thanks', 'today']\n",
      "48 unique stemmed words [\"'d\", \"'s\", 'a', 'accept', 'anyon', 'are', 'bye', 'can', 'card', 'cash', 'credit', 'day', 'do', 'doe', 'good', 'goodby', 'have', 'hello', 'help', 'hi', 'hour', 'how', 'i', 'is', 'kind', 'later', 'like', 'mastercard', 'mope', 'of', 'onli', 'open', 'rent', 'see', 'take', 'thank', 'that', 'there', 'thi', 'to', 'today', 'we', 'what', 'when', 'which', 'work', 'you', 'your']\n"
     ]
    }
   ],
   "source": [
    "print (len(documents), \"documents\")\n",
    "print (len(classes), \"classes\", classes)\n",
    "print (len(words), \"unique stemmed words\", words)"
   ]
  },
  {
   "cell_type": "code",
   "execution_count": 62,
   "id": "0df810ec",
   "metadata": {},
   "outputs": [],
   "source": [
    "training = []\n",
    "output = []"
   ]
  },
  {
   "cell_type": "code",
   "execution_count": 63,
   "id": "bb1f2c24",
   "metadata": {},
   "outputs": [],
   "source": [
    "output_empty = [0] * len(classes)"
   ]
  },
  {
   "cell_type": "code",
   "execution_count": 64,
   "id": "18bbb349",
   "metadata": {},
   "outputs": [
    {
     "data": {
      "text/plain": [
       "[0, 0, 0, 0, 0, 0, 0, 0, 0]"
      ]
     },
     "execution_count": 64,
     "metadata": {},
     "output_type": "execute_result"
    }
   ],
   "source": [
    "output_empty"
   ]
  },
  {
   "cell_type": "code",
   "execution_count": 65,
   "id": "86a33d4d",
   "metadata": {},
   "outputs": [],
   "source": [
    "op = list(output_empty)"
   ]
  },
  {
   "cell_type": "code",
   "execution_count": 66,
   "id": "c81102fd",
   "metadata": {},
   "outputs": [],
   "source": [
    "op[classes.index(documents[1][1])] = 1"
   ]
  },
  {
   "cell_type": "code",
   "execution_count": 67,
   "id": "a709a1bd",
   "metadata": {},
   "outputs": [
    {
     "data": {
      "text/plain": [
       "[0, 1, 0, 0, 0, 0, 0, 0, 0]"
      ]
     },
     "execution_count": 67,
     "metadata": {},
     "output_type": "execute_result"
    }
   ],
   "source": [
    "op"
   ]
  },
  {
   "cell_type": "code",
   "execution_count": 68,
   "id": "7fc445bd",
   "metadata": {},
   "outputs": [],
   "source": [
    "for doc in documents:\n",
    "    \n",
    "    pattern_words = doc[0]\n",
    "    pattern_words = [w.lower() for w in pattern_words]\n",
    "    \n",
    "    bog = []\n",
    "    \n",
    "    for w in words:\n",
    "        bog.append(1) if w in pattern_words else bog.append(0)\n",
    "    \n",
    "    tag = doc[1]\n",
    "    \n",
    "    output_row = list(output_empty)\n",
    "    output_row[classes.index(doc[1])] = 1\n",
    "    \n",
    "    training.append([bog,output_row])\n",
    "    \n",
    "    "
   ]
  },
  {
   "cell_type": "code",
   "execution_count": 70,
   "id": "5c01c2a7",
   "metadata": {},
   "outputs": [
    {
     "data": {
      "text/plain": [
       "[[0,\n",
       "  0,\n",
       "  0,\n",
       "  0,\n",
       "  0,\n",
       "  0,\n",
       "  0,\n",
       "  0,\n",
       "  0,\n",
       "  0,\n",
       "  0,\n",
       "  0,\n",
       "  0,\n",
       "  0,\n",
       "  0,\n",
       "  0,\n",
       "  0,\n",
       "  0,\n",
       "  0,\n",
       "  1,\n",
       "  0,\n",
       "  0,\n",
       "  0,\n",
       "  0,\n",
       "  0,\n",
       "  0,\n",
       "  0,\n",
       "  0,\n",
       "  0,\n",
       "  0,\n",
       "  0,\n",
       "  0,\n",
       "  0,\n",
       "  0,\n",
       "  0,\n",
       "  0,\n",
       "  0,\n",
       "  0,\n",
       "  0,\n",
       "  0,\n",
       "  0,\n",
       "  0,\n",
       "  0,\n",
       "  0,\n",
       "  0,\n",
       "  0,\n",
       "  0,\n",
       "  0],\n",
       " [0, 1, 0, 0, 0, 0, 0, 0, 0]]"
      ]
     },
     "execution_count": 70,
     "metadata": {},
     "output_type": "execute_result"
    }
   ],
   "source": [
    "training[0]"
   ]
  },
  {
   "cell_type": "code",
   "execution_count": 72,
   "id": "26b8b08d",
   "metadata": {},
   "outputs": [
    {
     "name": "stderr",
     "output_type": "stream",
     "text": [
      "<ipython-input-72-d8a3877f0c93>:3: VisibleDeprecationWarning: Creating an ndarray from ragged nested sequences (which is a list-or-tuple of lists-or-tuples-or ndarrays with different lengths or shapes) is deprecated. If you meant to do this, you must specify 'dtype=object' when creating the ndarray\n",
      "  training = np.array(training)\n"
     ]
    }
   ],
   "source": [
    "import random\n",
    "random.shuffle(training)\n",
    "training = np.array(training)"
   ]
  },
  {
   "cell_type": "code",
   "execution_count": 73,
   "id": "7692f59e",
   "metadata": {},
   "outputs": [
    {
     "data": {
      "text/plain": [
       "array([[list([0, 0, 0, 0, 0, 0, 0, 0, 0, 0, 0, 0, 0, 0, 0, 0, 0, 0, 0, 0, 0, 0, 0, 1, 0, 0, 0, 0, 0, 0, 0, 0, 0, 0, 0, 0, 0, 1, 0, 0, 0, 0, 0, 0, 0, 0, 0, 0]),\n",
       "        list([0, 1, 0, 0, 0, 0, 0, 0, 0])],\n",
       "       [list([0, 0, 0, 0, 0, 0, 0, 0, 0, 0, 0, 0, 0, 0, 0, 0, 0, 1, 0, 0, 0, 0, 0, 0, 0, 0, 0, 0, 0, 0, 0, 0, 0, 0, 0, 0, 0, 0, 0, 0, 0, 0, 0, 0, 0, 0, 0, 0]),\n",
       "        list([0, 1, 0, 0, 0, 0, 0, 0, 0])],\n",
       "       [list([0, 0, 0, 0, 0, 0, 0, 0, 0, 0, 0, 0, 0, 0, 0, 0, 0, 0, 0, 0, 0, 0, 0, 0, 0, 0, 0, 0, 0, 0, 0, 0, 0, 0, 0, 0, 0, 0, 0, 0, 0, 0, 0, 0, 0, 0, 0, 0]),\n",
       "        list([0, 0, 0, 0, 0, 0, 0, 1, 0])],\n",
       "       [list([0, 0, 0, 0, 0, 0, 0, 0, 0, 0, 0, 0, 1, 0, 0, 0, 0, 0, 0, 0, 0, 0, 0, 0, 0, 0, 0, 0, 0, 0, 0, 1, 0, 0, 0, 0, 0, 0, 0, 0, 1, 0, 0, 1, 0, 0, 1, 0]),\n",
       "        list([0, 0, 0, 0, 1, 0, 0, 0, 0])],\n",
       "       [list([0, 0, 0, 0, 0, 1, 0, 0, 0, 0, 0, 0, 0, 0, 0, 0, 0, 0, 0, 0, 0, 0, 0, 0, 0, 0, 0, 0, 0, 0, 0, 1, 0, 0, 0, 0, 0, 0, 0, 0, 0, 0, 1, 0, 0, 0, 1, 0]),\n",
       "        list([0, 0, 1, 0, 0, 0, 0, 0, 0])],\n",
       "       [list([0, 0, 0, 0, 0, 0, 1, 0, 0, 0, 0, 0, 0, 0, 0, 0, 0, 0, 0, 0, 0, 0, 0, 0, 0, 0, 0, 0, 0, 0, 0, 0, 0, 0, 0, 0, 0, 0, 0, 0, 0, 0, 0, 0, 0, 0, 0, 0]),\n",
       "        list([1, 0, 0, 0, 0, 0, 0, 0, 0])],\n",
       "       [list([0, 0, 0, 0, 0, 1, 0, 0, 0, 0, 0, 0, 0, 0, 0, 0, 0, 0, 0, 0, 0, 0, 0, 0, 0, 0, 0, 0, 0, 0, 0, 0, 0, 0, 0, 0, 0, 0, 0, 0, 1, 0, 1, 0, 0, 0, 0, 1]),\n",
       "        list([0, 0, 0, 0, 1, 0, 0, 0, 0])],\n",
       "       [list([0, 0, 0, 0, 0, 0, 0, 0, 0, 0, 0, 1, 0, 0, 1, 0, 0, 0, 0, 0, 0, 0, 0, 0, 0, 0, 0, 0, 0, 0, 0, 0, 0, 0, 0, 0, 0, 0, 0, 0, 0, 0, 0, 0, 0, 0, 0, 0]),\n",
       "        list([0, 1, 0, 0, 0, 0, 0, 0, 0])],\n",
       "       [list([0, 0, 0, 0, 0, 0, 0, 0, 0, 0, 0, 0, 0, 0, 0, 0, 0, 0, 0, 0, 0, 1, 0, 0, 0, 0, 0, 0, 0, 0, 0, 0, 0, 0, 0, 0, 0, 0, 0, 0, 0, 0, 0, 0, 0, 1, 0, 0]),\n",
       "        list([0, 0, 0, 0, 0, 0, 1, 0, 0])],\n",
       "       [list([0, 0, 0, 0, 0, 1, 0, 0, 0, 0, 0, 0, 0, 0, 0, 0, 0, 0, 0, 0, 0, 1, 0, 0, 0, 0, 0, 0, 0, 0, 0, 0, 0, 0, 0, 0, 0, 0, 0, 0, 0, 0, 0, 0, 0, 0, 1, 0]),\n",
       "        list([0, 1, 0, 0, 0, 0, 0, 0, 0])],\n",
       "       [list([0, 0, 1, 0, 0, 0, 0, 1, 0, 0, 0, 0, 0, 0, 0, 0, 0, 0, 0, 0, 0, 0, 0, 0, 0, 0, 0, 0, 0, 0, 0, 0, 1, 0, 0, 0, 0, 0, 0, 0, 0, 1, 0, 0, 0, 0, 0, 0]),\n",
       "        list([0, 0, 0, 0, 0, 0, 1, 0, 0])],\n",
       "       [list([0, 0, 0, 0, 0, 0, 0, 0, 0, 0, 0, 0, 0, 0, 0, 0, 0, 0, 0, 0, 0, 0, 0, 0, 0, 1, 0, 0, 0, 0, 0, 0, 0, 1, 0, 0, 0, 0, 0, 0, 0, 0, 0, 0, 0, 0, 1, 0]),\n",
       "        list([1, 0, 0, 0, 0, 0, 0, 0, 0])],\n",
       "       [list([0, 0, 0, 1, 0, 0, 0, 0, 0, 0, 0, 0, 1, 0, 0, 0, 0, 0, 0, 0, 0, 0, 0, 0, 0, 0, 0, 1, 0, 0, 0, 0, 0, 0, 0, 0, 0, 0, 0, 0, 0, 0, 0, 0, 0, 0, 1, 0]),\n",
       "        list([0, 0, 0, 0, 0, 1, 0, 0, 0])],\n",
       "       [list([0, 1, 0, 0, 0, 0, 0, 0, 0, 0, 0, 0, 0, 0, 0, 0, 0, 0, 0, 0, 0, 0, 0, 0, 0, 0, 0, 0, 0, 0, 0, 0, 0, 0, 0, 0, 1, 0, 0, 0, 0, 0, 0, 0, 0, 0, 0, 0]),\n",
       "        list([0, 0, 0, 0, 0, 0, 0, 1, 0])],\n",
       "       [list([0, 0, 0, 0, 0, 1, 0, 0, 0, 0, 0, 0, 0, 0, 0, 0, 0, 0, 0, 0, 0, 0, 0, 0, 0, 0, 0, 0, 0, 0, 0, 1, 0, 0, 0, 0, 0, 0, 0, 0, 0, 0, 0, 1, 0, 0, 1, 0]),\n",
       "        list([0, 0, 1, 0, 0, 0, 0, 0, 0])],\n",
       "       [list([0, 0, 0, 0, 0, 0, 0, 0, 0, 0, 0, 0, 0, 0, 0, 0, 0, 0, 0, 1, 0, 0, 0, 0, 0, 0, 0, 0, 0, 0, 0, 0, 0, 0, 0, 0, 0, 0, 0, 0, 0, 0, 0, 0, 0, 0, 0, 0]),\n",
       "        list([0, 1, 0, 0, 0, 0, 0, 0, 0])],\n",
       "       [list([0, 0, 0, 0, 0, 0, 0, 0, 0, 0, 0, 0, 0, 0, 0, 0, 0, 0, 0, 0, 0, 0, 0, 0, 0, 0, 0, 0, 0, 0, 0, 0, 0, 0, 0, 1, 0, 0, 0, 0, 0, 0, 0, 0, 0, 0, 1, 0]),\n",
       "        list([0, 0, 0, 0, 0, 0, 0, 1, 0])],\n",
       "       [list([0, 0, 0, 0, 0, 0, 0, 0, 0, 0, 0, 0, 1, 0, 0, 0, 1, 0, 0, 0, 0, 0, 0, 0, 0, 0, 0, 0, 0, 0, 0, 0, 0, 0, 0, 0, 0, 0, 0, 0, 0, 0, 0, 0, 1, 0, 1, 0]),\n",
       "        list([0, 0, 0, 1, 0, 0, 0, 0, 0])],\n",
       "       [list([0, 0, 0, 0, 0, 1, 0, 0, 0, 0, 0, 0, 0, 0, 0, 0, 0, 0, 0, 0, 0, 0, 0, 0, 0, 0, 0, 0, 0, 1, 0, 0, 0, 0, 0, 0, 0, 1, 0, 0, 0, 0, 1, 0, 0, 0, 0, 0]),\n",
       "        list([0, 0, 0, 1, 0, 0, 0, 0, 0])],\n",
       "       [list([0, 0, 0, 0, 0, 1, 0, 0, 0, 0, 0, 0, 0, 0, 0, 0, 0, 0, 0, 0, 0, 0, 0, 0, 0, 0, 0, 0, 0, 0, 0, 0, 0, 0, 0, 0, 0, 0, 0, 0, 0, 0, 1, 0, 0, 0, 0, 1]),\n",
       "        list([0, 0, 1, 0, 0, 0, 0, 0, 0])],\n",
       "       [list([0, 0, 0, 0, 0, 1, 0, 0, 0, 1, 0, 0, 0, 0, 0, 0, 0, 0, 0, 0, 0, 0, 0, 0, 0, 0, 0, 0, 0, 0, 0, 0, 0, 0, 0, 0, 0, 0, 0, 0, 0, 0, 0, 0, 0, 0, 1, 0]),\n",
       "        list([0, 0, 0, 0, 0, 1, 0, 0, 0])],\n",
       "       [list([0, 0, 0, 0, 0, 0, 0, 0, 0, 0, 0, 0, 0, 0, 0, 0, 0, 0, 0, 0, 0, 0, 0, 0, 0, 0, 0, 0, 0, 0, 0, 0, 0, 0, 0, 0, 0, 0, 0, 0, 1, 0, 0, 0, 0, 0, 0, 0]),\n",
       "        list([0, 0, 0, 0, 0, 0, 0, 0, 1])],\n",
       "       [list([0, 0, 0, 0, 0, 1, 0, 0, 0, 0, 0, 0, 0, 0, 0, 0, 0, 0, 0, 0, 0, 0, 0, 0, 0, 0, 0, 0, 0, 0, 0, 1, 0, 0, 0, 0, 0, 0, 0, 0, 1, 0, 0, 0, 0, 0, 1, 0]),\n",
       "        list([0, 0, 0, 0, 1, 0, 0, 0, 0])],\n",
       "       [list([0, 0, 0, 0, 0, 0, 0, 0, 0, 0, 0, 0, 0, 0, 0, 0, 0, 0, 0, 0, 0, 0, 0, 0, 0, 0, 0, 0, 0, 0, 0, 0, 0, 0, 0, 0, 0, 0, 0, 0, 0, 0, 0, 0, 0, 0, 0, 0]),\n",
       "        list([1, 0, 0, 0, 0, 0, 0, 0, 0])],\n",
       "       [list([0, 0, 0, 0, 0, 0, 0, 0, 0, 0, 1, 0, 1, 0, 0, 0, 0, 0, 0, 0, 0, 0, 0, 0, 0, 0, 0, 0, 0, 0, 0, 0, 0, 0, 1, 0, 0, 0, 0, 0, 0, 0, 0, 0, 0, 0, 1, 0]),\n",
       "        list([0, 0, 0, 0, 0, 1, 0, 0, 0])],\n",
       "       [list([0, 0, 0, 0, 0, 0, 0, 0, 0, 0, 0, 0, 1, 0, 0, 0, 0, 0, 0, 0, 0, 0, 0, 0, 0, 0, 0, 0, 0, 0, 0, 0, 1, 0, 0, 0, 0, 0, 0, 0, 0, 0, 1, 0, 0, 0, 1, 0]),\n",
       "        list([0, 0, 0, 1, 0, 0, 0, 0, 0])],\n",
       "       [list([1, 0, 1, 0, 0, 0, 0, 0, 0, 0, 0, 0, 0, 0, 0, 0, 0, 0, 0, 0, 0, 0, 1, 0, 0, 0, 1, 0, 0, 0, 0, 0, 1, 0, 0, 0, 0, 0, 0, 1, 0, 0, 0, 0, 0, 0, 0, 0]),\n",
       "        list([0, 0, 0, 0, 0, 0, 1, 0, 0])]], dtype=object)"
      ]
     },
     "execution_count": 73,
     "metadata": {},
     "output_type": "execute_result"
    }
   ],
   "source": [
    "training"
   ]
  },
  {
   "cell_type": "code",
   "execution_count": 74,
   "id": "33d06255",
   "metadata": {},
   "outputs": [],
   "source": [
    "train_x = list(training[:,0])\n",
    "train_y = list(training[:,1])"
   ]
  },
  {
   "cell_type": "code",
   "execution_count": 81,
   "id": "8d09a1e5",
   "metadata": {},
   "outputs": [
    {
     "data": {
      "text/plain": [
       "(48,)"
      ]
     },
     "execution_count": 81,
     "metadata": {},
     "output_type": "execute_result"
    }
   ],
   "source": [
    "np.array(train_x[0]).shape"
   ]
  },
  {
   "cell_type": "code",
   "execution_count": 77,
   "id": "8057ca42",
   "metadata": {},
   "outputs": [],
   "source": [
    "from keras.models import Sequential\n",
    "from keras.layers import Dense"
   ]
  },
  {
   "cell_type": "code",
   "execution_count": 90,
   "id": "61c2d61a",
   "metadata": {},
   "outputs": [],
   "source": [
    "model = Sequential()\n",
    "model.add(Dense(units=144,input_shape = (48,),activation='relu'))\n",
    "model.add(Dense(96,'relu'))\n",
    "model.add(Dense(48,'relu'))\n",
    "model.add(Dense(24,'relu'))\n",
    "model.add(Dense(9,'softmax'))\n",
    "model.compile(optimizer='adam',loss='categorical_crossentropy',metrics='accuracy')"
   ]
  },
  {
   "cell_type": "code",
   "execution_count": 203,
   "id": "03eee49f",
   "metadata": {},
   "outputs": [
    {
     "name": "stdout",
     "output_type": "stream",
     "text": [
      "Epoch 1/50\n",
      "1/1 - 0s - loss: 0.9419 - accuracy: 0.7778\n",
      "Epoch 2/50\n",
      "1/1 - 0s - loss: 0.8912 - accuracy: 0.7778\n",
      "Epoch 3/50\n",
      "1/1 - 0s - loss: 0.8262 - accuracy: 0.7778\n",
      "Epoch 4/50\n",
      "1/1 - 0s - loss: 0.7575 - accuracy: 0.8148\n",
      "Epoch 5/50\n",
      "1/1 - 0s - loss: 0.6900 - accuracy: 0.8148\n",
      "Epoch 6/50\n",
      "1/1 - 0s - loss: 0.6263 - accuracy: 0.8519\n",
      "Epoch 7/50\n",
      "1/1 - 0s - loss: 0.5673 - accuracy: 0.8519\n",
      "Epoch 8/50\n",
      "1/1 - 0s - loss: 0.5114 - accuracy: 0.8889\n",
      "Epoch 9/50\n",
      "1/1 - 0s - loss: 0.4599 - accuracy: 0.9259\n",
      "Epoch 10/50\n",
      "1/1 - 0s - loss: 0.4136 - accuracy: 0.9630\n",
      "Epoch 11/50\n",
      "1/1 - 0s - loss: 0.3717 - accuracy: 0.9630\n",
      "Epoch 12/50\n",
      "1/1 - 0s - loss: 0.3343 - accuracy: 0.9630\n",
      "Epoch 13/50\n",
      "1/1 - 0s - loss: 0.3019 - accuracy: 0.9630\n",
      "Epoch 14/50\n",
      "1/1 - 0s - loss: 0.2746 - accuracy: 0.9630\n",
      "Epoch 15/50\n",
      "1/1 - 0s - loss: 0.2510 - accuracy: 0.9630\n",
      "Epoch 16/50\n",
      "1/1 - 0s - loss: 0.2309 - accuracy: 0.9630\n",
      "Epoch 17/50\n",
      "1/1 - 0s - loss: 0.2140 - accuracy: 0.9630\n",
      "Epoch 18/50\n",
      "1/1 - 0s - loss: 0.1994 - accuracy: 0.9630\n",
      "Epoch 19/50\n",
      "1/1 - 0s - loss: 0.1865 - accuracy: 0.9630\n",
      "Epoch 20/50\n",
      "1/1 - 0s - loss: 0.1752 - accuracy: 0.9630\n",
      "Epoch 21/50\n",
      "1/1 - 0s - loss: 0.1650 - accuracy: 0.9630\n",
      "Epoch 22/50\n",
      "1/1 - 0s - loss: 0.1558 - accuracy: 0.9630\n",
      "Epoch 23/50\n",
      "1/1 - 0s - loss: 0.1473 - accuracy: 0.9630\n",
      "Epoch 24/50\n",
      "1/1 - 0s - loss: 0.1394 - accuracy: 0.9630\n",
      "Epoch 25/50\n",
      "1/1 - 0s - loss: 0.1320 - accuracy: 0.9630\n",
      "Epoch 26/50\n",
      "1/1 - 0s - loss: 0.1253 - accuracy: 0.9630\n",
      "Epoch 27/50\n",
      "1/1 - 0s - loss: 0.1190 - accuracy: 0.9630\n",
      "Epoch 28/50\n",
      "1/1 - 0s - loss: 0.1133 - accuracy: 0.9630\n",
      "Epoch 29/50\n",
      "1/1 - 0s - loss: 0.1082 - accuracy: 0.9630\n",
      "Epoch 30/50\n",
      "1/1 - 0s - loss: 0.1036 - accuracy: 0.9630\n",
      "Epoch 31/50\n",
      "1/1 - 0s - loss: 0.0995 - accuracy: 0.9630\n",
      "Epoch 32/50\n",
      "1/1 - 0s - loss: 0.0957 - accuracy: 0.9630\n",
      "Epoch 33/50\n",
      "1/1 - 0s - loss: 0.0923 - accuracy: 0.9630\n",
      "Epoch 34/50\n",
      "1/1 - 0s - loss: 0.0892 - accuracy: 0.9630\n",
      "Epoch 35/50\n",
      "1/1 - 0s - loss: 0.0864 - accuracy: 0.9630\n",
      "Epoch 36/50\n",
      "1/1 - 0s - loss: 0.0839 - accuracy: 0.9630\n",
      "Epoch 37/50\n",
      "1/1 - 0s - loss: 0.0816 - accuracy: 0.9630\n",
      "Epoch 38/50\n",
      "1/1 - 0s - loss: 0.0795 - accuracy: 0.9630\n",
      "Epoch 39/50\n",
      "1/1 - 0s - loss: 0.0777 - accuracy: 0.9630\n",
      "Epoch 40/50\n",
      "1/1 - 0s - loss: 0.0760 - accuracy: 0.9630\n",
      "Epoch 41/50\n",
      "1/1 - 0s - loss: 0.0744 - accuracy: 0.9630\n",
      "Epoch 42/50\n",
      "1/1 - 0s - loss: 0.0730 - accuracy: 0.9630\n",
      "Epoch 43/50\n",
      "1/1 - 0s - loss: 0.0717 - accuracy: 0.9630\n",
      "Epoch 44/50\n",
      "1/1 - 0s - loss: 0.0705 - accuracy: 0.9630\n",
      "Epoch 45/50\n",
      "1/1 - 0s - loss: 0.0693 - accuracy: 0.9630\n",
      "Epoch 46/50\n",
      "1/1 - 0s - loss: 0.0683 - accuracy: 0.9630\n",
      "Epoch 47/50\n",
      "1/1 - 0s - loss: 0.0673 - accuracy: 0.9630\n",
      "Epoch 48/50\n",
      "1/1 - 0s - loss: 0.0665 - accuracy: 0.9630\n",
      "Epoch 49/50\n",
      "1/1 - 0s - loss: 0.0658 - accuracy: 0.9630\n",
      "Epoch 50/50\n",
      "1/1 - 0s - loss: 0.0651 - accuracy: 0.9630\n"
     ]
    },
    {
     "data": {
      "text/plain": [
       "<keras.callbacks.History at 0x2ce37b38c70>"
      ]
     },
     "execution_count": 203,
     "metadata": {},
     "output_type": "execute_result"
    }
   ],
   "source": [
    "model.fit(train_x,train_y,epochs=50,verbose=2)"
   ]
  },
  {
   "cell_type": "code",
   "execution_count": 163,
   "id": "f90f1c1c",
   "metadata": {},
   "outputs": [],
   "source": [
    "def chatbot():\n",
    "    intention = ''\n",
    "    while intention != 'goodbye':\n",
    "        X = str(input('You: '))\n",
    "        tokens = nltk.word_tokenize(X)\n",
    "        bag_of_words = []\n",
    "        for w in words:\n",
    "            bag_of_words.append(1) if w in tokens else bag_of_words.append(0)\n",
    "        index_in_classes = model.predict([bag_of_words]).argmax()\n",
    "        intention = classes[index_in_classes]\n",
    "        print(intention)\n",
    "        for intent in intents['intents']:\n",
    "            if intent['tag'] == intention:\n",
    "                t = len(intent['responses'])\n",
    "                ind = random.randint(0,t-1)\n",
    "                print('sam:',intent['responses'][ind])"
   ]
  },
  {
   "cell_type": "code",
   "execution_count": 207,
   "id": "d935cd51",
   "metadata": {},
   "outputs": [
    {
     "name": "stdout",
     "output_type": "stream",
     "text": [
      "You: hi\n",
      "greeting\n",
      "sam: Hello, thanks for visiting\n"
     ]
    },
    {
     "ename": "KeyboardInterrupt",
     "evalue": "Interrupted by user",
     "output_type": "error",
     "traceback": [
      "\u001b[1;31m---------------------------------------------------------------------------\u001b[0m",
      "\u001b[1;31mKeyboardInterrupt\u001b[0m                         Traceback (most recent call last)",
      "\u001b[1;32m<ipython-input-207-aac704dbd9c8>\u001b[0m in \u001b[0;36m<module>\u001b[1;34m\u001b[0m\n\u001b[1;32m----> 1\u001b[1;33m \u001b[0mchatbot\u001b[0m\u001b[1;33m(\u001b[0m\u001b[1;33m)\u001b[0m\u001b[1;33m\u001b[0m\u001b[1;33m\u001b[0m\u001b[0m\n\u001b[0m",
      "\u001b[1;32m<ipython-input-163-5f64df8cb295>\u001b[0m in \u001b[0;36mchatbot\u001b[1;34m()\u001b[0m\n\u001b[0;32m      2\u001b[0m     \u001b[0mintention\u001b[0m \u001b[1;33m=\u001b[0m \u001b[1;34m''\u001b[0m\u001b[1;33m\u001b[0m\u001b[1;33m\u001b[0m\u001b[0m\n\u001b[0;32m      3\u001b[0m     \u001b[1;32mwhile\u001b[0m \u001b[0mintention\u001b[0m \u001b[1;33m!=\u001b[0m \u001b[1;34m'goodbye'\u001b[0m\u001b[1;33m:\u001b[0m\u001b[1;33m\u001b[0m\u001b[1;33m\u001b[0m\u001b[0m\n\u001b[1;32m----> 4\u001b[1;33m         \u001b[0mX\u001b[0m \u001b[1;33m=\u001b[0m \u001b[0mstr\u001b[0m\u001b[1;33m(\u001b[0m\u001b[0minput\u001b[0m\u001b[1;33m(\u001b[0m\u001b[1;34m'You: '\u001b[0m\u001b[1;33m)\u001b[0m\u001b[1;33m)\u001b[0m\u001b[1;33m\u001b[0m\u001b[1;33m\u001b[0m\u001b[0m\n\u001b[0m\u001b[0;32m      5\u001b[0m         \u001b[0mtokens\u001b[0m \u001b[1;33m=\u001b[0m \u001b[0mnltk\u001b[0m\u001b[1;33m.\u001b[0m\u001b[0mword_tokenize\u001b[0m\u001b[1;33m(\u001b[0m\u001b[0mX\u001b[0m\u001b[1;33m)\u001b[0m\u001b[1;33m\u001b[0m\u001b[1;33m\u001b[0m\u001b[0m\n\u001b[0;32m      6\u001b[0m         \u001b[0mbag_of_words\u001b[0m \u001b[1;33m=\u001b[0m \u001b[1;33m[\u001b[0m\u001b[1;33m]\u001b[0m\u001b[1;33m\u001b[0m\u001b[1;33m\u001b[0m\u001b[0m\n",
      "\u001b[1;32m~\\anaconda3\\lib\\site-packages\\ipykernel\\kernelbase.py\u001b[0m in \u001b[0;36mraw_input\u001b[1;34m(self, prompt)\u001b[0m\n\u001b[0;32m    858\u001b[0m                 \u001b[1;34m\"raw_input was called, but this frontend does not support input requests.\"\u001b[0m\u001b[1;33m\u001b[0m\u001b[1;33m\u001b[0m\u001b[0m\n\u001b[0;32m    859\u001b[0m             )\n\u001b[1;32m--> 860\u001b[1;33m         return self._input_request(str(prompt),\n\u001b[0m\u001b[0;32m    861\u001b[0m             \u001b[0mself\u001b[0m\u001b[1;33m.\u001b[0m\u001b[0m_parent_ident\u001b[0m\u001b[1;33m,\u001b[0m\u001b[1;33m\u001b[0m\u001b[1;33m\u001b[0m\u001b[0m\n\u001b[0;32m    862\u001b[0m             \u001b[0mself\u001b[0m\u001b[1;33m.\u001b[0m\u001b[0m_parent_header\u001b[0m\u001b[1;33m,\u001b[0m\u001b[1;33m\u001b[0m\u001b[1;33m\u001b[0m\u001b[0m\n",
      "\u001b[1;32m~\\anaconda3\\lib\\site-packages\\ipykernel\\kernelbase.py\u001b[0m in \u001b[0;36m_input_request\u001b[1;34m(self, prompt, ident, parent, password)\u001b[0m\n\u001b[0;32m    902\u001b[0m             \u001b[1;32mexcept\u001b[0m \u001b[0mKeyboardInterrupt\u001b[0m\u001b[1;33m:\u001b[0m\u001b[1;33m\u001b[0m\u001b[1;33m\u001b[0m\u001b[0m\n\u001b[0;32m    903\u001b[0m                 \u001b[1;31m# re-raise KeyboardInterrupt, to truncate traceback\u001b[0m\u001b[1;33m\u001b[0m\u001b[1;33m\u001b[0m\u001b[1;33m\u001b[0m\u001b[0m\n\u001b[1;32m--> 904\u001b[1;33m                 \u001b[1;32mraise\u001b[0m \u001b[0mKeyboardInterrupt\u001b[0m\u001b[1;33m(\u001b[0m\u001b[1;34m\"Interrupted by user\"\u001b[0m\u001b[1;33m)\u001b[0m \u001b[1;32mfrom\u001b[0m \u001b[1;32mNone\u001b[0m\u001b[1;33m\u001b[0m\u001b[1;33m\u001b[0m\u001b[0m\n\u001b[0m\u001b[0;32m    905\u001b[0m             \u001b[1;32mexcept\u001b[0m \u001b[0mException\u001b[0m \u001b[1;32mas\u001b[0m \u001b[0me\u001b[0m\u001b[1;33m:\u001b[0m\u001b[1;33m\u001b[0m\u001b[1;33m\u001b[0m\u001b[0m\n\u001b[0;32m    906\u001b[0m                 \u001b[0mself\u001b[0m\u001b[1;33m.\u001b[0m\u001b[0mlog\u001b[0m\u001b[1;33m.\u001b[0m\u001b[0mwarning\u001b[0m\u001b[1;33m(\u001b[0m\u001b[1;34m\"Invalid Message:\"\u001b[0m\u001b[1;33m,\u001b[0m \u001b[0mexc_info\u001b[0m\u001b[1;33m=\u001b[0m\u001b[1;32mTrue\u001b[0m\u001b[1;33m)\u001b[0m\u001b[1;33m\u001b[0m\u001b[1;33m\u001b[0m\u001b[0m\n",
      "\u001b[1;31mKeyboardInterrupt\u001b[0m: Interrupted by user"
     ]
    }
   ],
   "source": [
    "chatbot()"
   ]
  },
  {
   "cell_type": "code",
   "execution_count": null,
   "id": "3c8f7dbb",
   "metadata": {},
   "outputs": [],
   "source": []
  },
  {
   "cell_type": "code",
   "execution_count": null,
   "id": "8e8576ac",
   "metadata": {},
   "outputs": [],
   "source": []
  }
 ],
 "metadata": {
  "kernelspec": {
   "display_name": "Python 3",
   "language": "python",
   "name": "python3"
  },
  "language_info": {
   "codemirror_mode": {
    "name": "ipython",
    "version": 3
   },
   "file_extension": ".py",
   "mimetype": "text/x-python",
   "name": "python",
   "nbconvert_exporter": "python",
   "pygments_lexer": "ipython3",
   "version": "3.8.8"
  }
 },
 "nbformat": 4,
 "nbformat_minor": 5
}
